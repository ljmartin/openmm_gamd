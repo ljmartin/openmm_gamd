{
 "cells": [
  {
   "cell_type": "code",
   "execution_count": 1,
   "metadata": {},
   "outputs": [],
   "source": [
    "from simtk.openmm.app import *\n",
    "from simtk.openmm import *\n",
    "from simtk.unit import *\n",
    "import numpy as np\n",
    "import matplotlib.pyplot as plt\n",
    "import tqdm\n",
    "import statsmodels.api as sm\n",
    "from statsmodels.tsa.ar_model import AutoReg\n",
    "\n",
    "TEMPERATURE = 310*kelvin\n",
    "FRICTION = 1/picosecond\n",
    "TIMESTEP = 2*femtoseconds\n",
    "\n",
    "SIGMA0 = (MOLAR_GAS_CONSTANT_R * TEMPERATURE ).value_in_unit(kilojoule_per_mole) * 10"
   ]
  },
  {
   "cell_type": "markdown",
   "metadata": {},
   "source": [
    "# GaMD in OpenMM\n",
    "The most convenient way to implement GaMD in OpenMM is using a custom integrator. In the custom integrator, the force has already been calculated by OpenMM. That means we can't edit the potential energy function and expect to re-calculate the force. Instead, we find out what the change in potential energy would have done to the force, and do the same thing within the integrator.  \n",
    "\n",
    "Normally, the force is the negative of the gradient of the potential $V(\\vec r)$:\n",
    "$$f = -1 \\left( \\frac{\\partial V(\\vec r)}{\\partial \\vec r}\\right)$$\n",
    "\n",
    "In GaMD, we use a modified potential:\n",
    "\n",
    "$$V'(\\vec r) = V(\\vec r) + dV(\\vec r)$$ \n",
    "\n",
    "where:\n",
    "\n",
    "$$dV(\\vec r) = \\frac{k}{2} (E - V(\\vec r))^2$$\n",
    "\n",
    "So the modified force is now:\n",
    "\n",
    "$$f' = -1 \\left( \\frac{\\partial V(\\vec r) + \\frac{k}{2} (E - V(\\vec r))^2}{\\partial \\vec r}\\right)$$\n",
    "\n",
    "Separate into two derivatives with the Sum rule:\n",
    "\n",
    "$$f' = - \\left( \\frac{\\partial V(\\vec r)}{\\partial \\vec r}\\right) -  \\left( \\frac{\\partial \\frac{k}{2} (E - V(\\vec r))^2 }{\\partial \\vec r}\\right)  $$\n",
    "\n",
    "\n",
    "Now to start simplifying. The left hand term is already $-f$ and we can move $\\frac{k}{2}$ outside (Constant rule):\n",
    "\n",
    "$$f' =  f -  \\frac{k}{2} \\left( \\frac{\\partial (E - V(\\vec r))^2 }{\\partial \\vec r}\\right)  $$\n",
    "\n",
    "Expanding the right hand side:\n",
    "\n",
    "$$f' =  f -  \\frac{k}{2} \\left( \\frac{\\partial (E^2 - 2EV(\\vec r) + V(\\vec r)^2) }{\\partial \\vec r}\\right)  $$\n",
    "\n",
    "$E^2$ is a constant and doesn't affect the derivative, so remove it:\n",
    "\n",
    "$$f' =  f -  \\frac{k}{2} \\left( \\frac{\\partial ( - 2EV(\\vec r) + V(\\vec r)^2) }{\\partial \\vec r}\\right)  $$\n",
    "\n",
    "Factor out one of the $V(\\vec r)$ terms so we can do a chain rule afterwards:\n",
    "\n",
    "$$f' =  f -  \\frac{k}{2} \\left( \\frac{\\partial ( V(\\vec r)(- 2E + V(\\vec r)) }{\\partial \\vec r}\\right)  $$\n",
    "\n",
    "Now use the chain rule:\n",
    "\n",
    "$$f' =  f -  \\frac{k}{2} \\left( \\frac{\\partial V(\\vec r) }{\\partial \\vec r}\\cdot(-2E + V(\\vec r)) + \\frac{\\partial (-2E + V(\\vec r)) }{\\partial \\vec r} \\cdot V(\\vec r) \\right)  $$\n",
    "\n",
    "\n",
    "This is where life gets easier. The left derivative is $-f$ again. The $-2E$ can be removed from the right derivative, since it's a constant, meaning the right derivative is just $-f$ as well!\n",
    "\n",
    "$$f' = f - \\frac{k}{2} \\left( -f\\cdot(-2E + V(\\vec r)) -fV(\\vec r) \\right) $$\n",
    "\n",
    "One step at a time...\n",
    "\n",
    "$$f' = f - \\frac{k}{2} \\left( 2fE - fV(\\vec r) -fV(\\vec r) \\right) $$\n",
    "\n",
    "then \n",
    "$$f' = f - \\frac{k}{2} \\left( 2fE - 2fV(\\vec r) \\right) $$\n",
    "\n",
    "then \n",
    "$$f' = f - \\frac{k}{2} \\left( 2f(E - V(\\vec r)) \\right) $$\n",
    "\n",
    "then \n",
    "$$f' = f - fk \\left( E - V(\\vec r) \\right) $$\n",
    "\n",
    "\n",
    "\n",
    "So finally, we have the modified force being the original force multiplied by a factor of $k$, $E$, and $V(\\vec r)$:\n",
    "\n",
    "$$f' = f \\cdot (1 - k(E - V(\\vec r) )$$ \n",
    "\n",
    "\n",
    "----------------------------\n",
    "\n",
    "The custom integrator below is a Langevin integrator with some extra parameters like $E$ and $k$ (one of each for the dihedrals force group, and one of each for everything else, which Miao et al. call 'total' potential), which are used to calculate the modified force. \n",
    "\n",
    "It also has methods to calculate the magnitude of the boost, which can be used later to re-weight the free energy estimates.  "
   ]
  },
  {
   "cell_type": "code",
   "execution_count": 2,
   "metadata": {},
   "outputs": [],
   "source": [
    "class CustomGaMDLangevinIntegrator(CustomIntegrator):\n",
    "    def __init__(self, temperature, friction, dt, ktot, Etot, kgrp, Egrp, forceGroup):\n",
    "        self.ktot = ktot \n",
    "        self.Etot = Etot \n",
    "        self.kgrp = kgrp\n",
    "        self.Egrp = Egrp\n",
    "        self.forceGroup = str(forceGroup)\n",
    "        \n",
    "        CustomIntegrator.__init__(self, dt)\n",
    "            #lew added:\n",
    "        self.addGlobalVariable(\"ktot\", self.ktot)\n",
    "        self.addGlobalVariable(\"Etot\", self.Etot)\n",
    "        self.addGlobalVariable(\"kgrp\", self.ktot)\n",
    "        self.addGlobalVariable(\"Egrp\", self.Egrp)\n",
    "        self.addGlobalVariable(\"groupEnergy\", 0)\n",
    "        \n",
    "            #normal langevin:  \n",
    "        self.addGlobalVariable(\"temperature\", temperature);\n",
    "        self.addGlobalVariable(\"friction\", friction);\n",
    "        self.addGlobalVariable(\"vscale\", 0);\n",
    "        self.addGlobalVariable(\"fscale\", 0);\n",
    "        self.addGlobalVariable(\"noisescale\", 0);\n",
    "        self.addPerDofVariable(\"x0\", 0);\n",
    "        \n",
    "        self.addPerDofVariable(\"fgrp\", 0)\n",
    "        \n",
    "            #normal langevin:                                                                  \n",
    "        self.addUpdateContextState();\n",
    "        \n",
    "        self.addComputeGlobal(\"groupEnergy\", \"energy\"+self.forceGroup)\n",
    "        self.addComputePerDof(\"fgrp\", \"f\"+self.forceGroup)\n",
    "        \n",
    "        self.addComputeGlobal(\"vscale\", \"exp(-dt*friction)\");\n",
    "        self.addComputeGlobal(\"fscale\", \"(1-vscale)/friction\");\n",
    "        #original line:                \n",
    "        self.addComputeGlobal(\"noisescale\", \"sqrt(kT*(1-vscale*vscale)); kT=0.00831451*temperature\");\n",
    "        self.addComputePerDof(\"x0\", \"x\");\n",
    "            #original langevin line:                                                                                      \n",
    "        #self.addComputePerDof(\"v\", \"vscale*v + fscale*f/m + noisescale*gaussian/sqrt(m)\");  \n",
    "            #GaMD:\n",
    "        dof_string = \"vscale*v + fscale*fprime/m + noisescale*gaussian/sqrt(m);\"\n",
    "        dof_string+= \"fprime= fprime1 + fprime2;\"\n",
    "        #fprime2 is the dihedral force modified by the boost. Boot calculated using group only. \n",
    "        dof_string+= \"fprime2 = fgrp*((1-modifyGroup) + modifyGroup* (1 - kgrp*(Egrp - groupEnergy)) ) ;\"\n",
    "        #fprime1 is the other forces modified by the boost, but the boost is calculated using TOTAL energy. \n",
    "        dof_string+= \"fprime1 = ftot*((1-modifyTotal) + modifyTotal* (1 - ktot*(Etot - energy)) );\"\n",
    "        \n",
    "        dof_string+= \"ftot=f-fgrp;\"\n",
    "        dof_string+= \"modifyGroup=step(Egrp-groupEnergy);\"\n",
    "        dof_string+= \"modifyTotal=step(Etot-energy);\"\n",
    "        self.addComputePerDof(\"v\", dof_string); \n",
    "            #normal langevin                                            \n",
    "        self.addComputePerDof(\"x\", \"x+dt*v\");\n",
    "        self.addConstrainPositions();\n",
    "        self.addComputePerDof(\"v\", \"(x-x0)/dt\");\n",
    "        self.addComputePerDof(\"veloc\", \"v\")\n",
    "        \n",
    "    def setKtot(self, newK):\n",
    "        if not is_quantity(newK):\n",
    "            newK = newK/kilojoules_per_mole\n",
    "        self.setGlobalVariableByName('ktot', newK)\n",
    "        \n",
    "    def setEtot(self, newE):\n",
    "        if not is_quantity(newE):\n",
    "            newE = newE*kilojoules_per_mole\n",
    "        self.setGlobalVariableByName('Etot', newE)\n",
    "        \n",
    "    def setKgrp(self, newK):\n",
    "        if not is_quantity(newK):\n",
    "            newK = newK/kilojoules_per_mole\n",
    "        self.setGlobalVariableByName('kgrp', newK)\n",
    "        \n",
    "    def setEgrp(self, newE):\n",
    "        #if not is_quantity(newE):\n",
    "        #    newE = newE*kilojoules_per_mole\n",
    "        #    print(newE)\n",
    "        self.setGlobalVariableByName('Egrp', newE)\n",
    "          \n",
    "    def getGrpBoost(self, grpEnergy):\n",
    "        kgrp = self.getGlobalVariableByName('kgrp')/kilojoules_per_mole\n",
    "        Egrp = self.getGlobalVariableByName('Egrp')*kilojoules_per_mole\n",
    "        if not is_quantity(grpEnergy):\n",
    "            grpEnergy = grpEnergy*kilojoules_per_mole # Assume kJ/mole\n",
    "        if (grpEnergy > Egrp):\n",
    "            return 0*kilojoules_per_mole #no boosting\n",
    "        return ( 0.5 * kgrp * (Egrp-grpEnergy)**2 ) # 'k' parameter should instead be per kj/mol\n",
    "    \n",
    "    def getTotBoost(self, totEnergy):\n",
    "        ktot = self.getGlobalVariableByName('ktot')/kilojoules_per_mole\n",
    "        Etot = self.getGlobalVariableByName('Etot')*kilojoules_per_mole\n",
    "        if not is_quantity(totEnergy):\n",
    "            totEnergy = totEnergy*kilojoules_per_mole # Assume kJ/mole\n",
    "        if (totEnergy > Etot):\n",
    "            return 0*kilojoules_per_mole #no boosting\n",
    "        return ( 0.5 * ktot * (Etot-totEnergy)**2 ) # 'k' parameter should instead be per kj/mol\n",
    "        \n",
    "    def getEffectiveEnergy(self, totEnergy, grpEnergy):\n",
    "        if not is_quantity(totEnergy):\n",
    "            totEnergy = totEnergy*kilojoules_per_mole # Assume kJ/mole\n",
    "        if not is_quantity(grpEnergy):\n",
    "            grpEnergy = grpEnergy*kilojoules_per_mole # Assume kJ/mole\n",
    "        \n",
    "        group_boost = self.getGrpBoost(grpEnergy)\n",
    "        total_boost = self.getTotBoost(totEnergy)\n",
    "        \n",
    "        return totEnergy + group_boost + total_boost\n",
    "        \n",
    "    \n",
    "\n"
   ]
  },
  {
   "cell_type": "code",
   "execution_count": 3,
   "metadata": {},
   "outputs": [],
   "source": [
    "def setup_system(filename):\n",
    "  \"\"\"Creates a 'system' object given a pdb filename\"\"\"\n",
    "  pdb = PDBFile(filename)\n",
    "  forcefield = app.ForceField('amber99sbildn.xml', 'tip3p.xml')\n",
    "  system = forcefield.createSystem(pdb.topology, nonbondedMethod=app.CutoffPeriodic, constraints=HBonds,)\n",
    "  system.addForce(MonteCarloBarostat(1*bar, 310*kelvin))\n",
    "  set_dihedral_force_group(system)\n",
    "  print('Created system')\n",
    "  return system, pdb\n",
    "\n",
    "\n",
    "def set_dihedral_force_group(system, g=2):\n",
    "  \"\"\"Sets the dihedral forcegroup to a number other than 0,\n",
    "  which will be used by serial tempering\"\"\"\n",
    "  print('Scanning forces:')\n",
    "  for f in system.getForces():\n",
    "    if isinstance(f, PeriodicTorsionForce):\n",
    "      print('Found the torsions - setting group to 2')\n",
    "      f.setForceGroup(2)\n",
    "    print(f.getForceGroup(), f.__class__)\n",
    "\n",
    "def setup_simulation(system, pdb, integrator):\n",
    "  \"\"\"Creates a simulation object\"\"\"\n",
    "  #platform = Platform.getPlatformByName('CPU')\n",
    "  platform = Platform.getPlatformByName('OpenCL')\n",
    "  prop = {'OpenCLPrecision':'single'}\n",
    "  simulation = Simulation(pdb.topology, system, integrator, platform, prop)\n",
    "  simulation.context.setPositions(pdb.positions)\n",
    "  simulation.minimizeEnergy()\n",
    "  simulation.context.setVelocitiesToTemperature(310*kelvin)\n",
    "  print('Created simulation')\n",
    "  return simulation\n",
    "\n"
   ]
  },
  {
   "cell_type": "code",
   "execution_count": 4,
   "metadata": {},
   "outputs": [],
   "source": [
    "filename ='./alanine-dipeptide-explicit.pdb'\n",
    "output_directory = './'\n"
   ]
  },
  {
   "cell_type": "code",
   "execution_count": 5,
   "metadata": {},
   "outputs": [
    {
     "name": "stdout",
     "output_type": "stream",
     "text": [
      "Scanning forces:\n",
      "0 <class 'simtk.openmm.openmm.HarmonicBondForce'>\n",
      "0 <class 'simtk.openmm.openmm.HarmonicAngleForce'>\n",
      "Found the torsions - setting group to 2\n",
      "2 <class 'simtk.openmm.openmm.PeriodicTorsionForce'>\n",
      "0 <class 'simtk.openmm.openmm.NonbondedForce'>\n",
      "0 <class 'simtk.openmm.openmm.CMMotionRemover'>\n",
      "0 <class 'simtk.openmm.openmm.MonteCarloBarostat'>\n",
      "Created system\n"
     ]
    }
   ],
   "source": [
    "system, pdb = setup_system(filename)\n",
    "\n"
   ]
  },
  {
   "cell_type": "code",
   "execution_count": 6,
   "metadata": {},
   "outputs": [],
   "source": [
    "integrator = CustomGaMDLangevinIntegrator(TEMPERATURE,\n",
    "                                         FRICTION,\n",
    "                                         TIMESTEP,\n",
    "                                         1/kilojoules_per_mole,\n",
    "                                         -1e6*kilojoules_per_mole, #set a ridiculous low threshold to start\n",
    "                                         1/kilojoules_per_mole,\n",
    "                                         -1e6*kilojoules_per_mole, #set a ridiculous low threshold to start\n",
    "                                         2)"
   ]
  },
  {
   "cell_type": "code",
   "execution_count": 7,
   "metadata": {},
   "outputs": [
    {
     "name": "stdout",
     "output_type": "stream",
     "text": [
      "Created simulation\n"
     ]
    }
   ],
   "source": [
    "sim =setup_simulation(system, pdb, integrator)"
   ]
  },
  {
   "cell_type": "code",
   "execution_count": 8,
   "metadata": {},
   "outputs": [],
   "source": [
    "#These functions help calculate the k and E parameters based on Miao's rules\n",
    "\n",
    "def get_statistics(pe_trace, boost_trace=0):\n",
    "    arr = np.array(pe_trace)\n",
    "    arr = arr + np.array(boost_trace)\n",
    "    Vmax = arr.max()\n",
    "    Vmin = arr.min()\n",
    "    Vavg = arr.mean()\n",
    "    Vstd = np.std(arr)\n",
    "    \n",
    "    return [Vmax, Vmin, Vavg, Vstd]\n",
    "\n",
    "def calc_parameters(Vmax, Vmin, Vavg, Vstd, mode='low', sigma_0=SIGMA0, verbose=False):\n",
    "    E = Vmax\n",
    "    k_0 = min(1, (sigma_0/Vstd) * ((Vmax-Vmin)/(Vmax-Vavg)))\n",
    "    k = k_0 * (1 / (Vmax - Vmin) )\n",
    "    \n",
    "    if verbose:\n",
    "        return E, k, k_0\n",
    "    else:\n",
    "        return E, k"
   ]
  },
  {
   "cell_type": "markdown",
   "metadata": {},
   "source": [
    "# Collect some statistics from cMD:"
   ]
  },
  {
   "cell_type": "code",
   "execution_count": 9,
   "metadata": {},
   "outputs": [
    {
     "data": {
      "application/vnd.jupyter.widget-view+json": {
       "model_id": "e63bed583780447183b01b028ee76f12",
       "version_major": 2,
       "version_minor": 0
      },
      "text/plain": [
       "HBox(children=(IntProgress(value=0, max=2000), HTML(value='')))"
      ]
     },
     "metadata": {},
     "output_type": "display_data"
    },
    {
     "name": "stdout",
     "output_type": "stream",
     "text": [
      "\n"
     ]
    }
   ],
   "source": [
    "grp_nrgs = list()\n",
    "tot_nrgs = list()\n",
    "\n",
    "\n",
    "for i in tqdm.tqdm_notebook(range(2000)):\n",
    "    sim.step(100)\n",
    "    \n",
    "    grp_nrg = sim.context.getState(getEnergy=True, groups={2}).getPotentialEnergy()/kilojoule_per_mole\n",
    "    tot_nrg = sim.context.getState(getEnergy=True).getPotentialEnergy()/kilojoule_per_mole\n",
    "    \n",
    "    grp_nrgs.append(grp_nrg)\n",
    "    tot_nrgs.append(tot_nrg)\n",
    "    \n",
    "    "
   ]
  },
  {
   "cell_type": "code",
   "execution_count": 10,
   "metadata": {},
   "outputs": [
    {
     "data": {
      "text/plain": [
       "[<matplotlib.lines.Line2D at 0x7faedfaedcd0>]"
      ]
     },
     "execution_count": 10,
     "metadata": {},
     "output_type": "execute_result"
    },
    {
     "data": {
      "image/png": "[encoded data removed]",
      "text/plain": [
       "<Figure size 432x288 with 1 Axes>"
      ]
     },
     "metadata": {
      "needs_background": "light"
     },
     "output_type": "display_data"
    }
   ],
   "source": [
    "plt.plot(grp_nrgs)"
   ]
  },
  {
   "cell_type": "markdown",
   "metadata": {},
   "source": [
    "# Initial estimate of k and E from the cMD run"
   ]
  },
  {
   "cell_type": "code",
   "execution_count": 11,
   "metadata": {},
   "outputs": [
    {
     "name": "stdout",
     "output_type": "stream",
     "text": [
      "Egrp: 74.74067687988281\n"
     ]
    }
   ],
   "source": [
    "#if doing total boost as well:\n",
    "# Vmax, Vmin, Vavg, Vstd = get_statistics(tot_nrgs,0)\n",
    "# E,k = calc_parameters(Vmax, Vmin, Vavg, Vstd, sigma_0=SIGMA0*10)\n",
    "# sim.integrator.setEtot(E)\n",
    "# sim.integrator.setKtot(k)\n",
    "\n",
    "#for dihedral boost:\n",
    "Vmax, Vmin, Vavg, Vstd = get_statistics(grp_nrgs, 0)\n",
    "E,k = calc_parameters(Vmax, Vmin, Vavg, Vstd, sigma_0=SIGMA0*3)\n",
    "print('Egrp:',E)\n",
    "sim.integrator.setEgrp(E)\n",
    "sim.integrator.setKgrp(k)"
   ]
  },
  {
   "cell_type": "markdown",
   "metadata": {},
   "source": [
    "# Run iterative estimation of k, E parameters:\n",
    "\n",
    "We have an estimate of the parameters from conventional MD above. Now we run short stints, continually updating those estimates based on the behaviour of the potential energy in response (for example, E is based on Vmax, thus will it gradually increase as the boost potential leads the system into higher energy regions of phase space). \n",
    "\n",
    "Eventually Vmax and Vstd, and thus k and E, should converge.\n",
    "\n",
    "The below uses about 5 nanoseconds of simulation (there's also small equilibrations at the start of each step)."
   ]
  },
  {
   "cell_type": "code",
   "execution_count": 19,
   "metadata": {
    "scrolled": true
   },
   "outputs": [
    {
     "data": {
      "application/vnd.jupyter.widget-view+json": {
       "model_id": "b4d824f5868040b3a9f1d1fd3d1dc498",
       "version_major": 2,
       "version_minor": 0
      },
      "text/plain": [
       "HBox(children=(IntProgress(value=0, max=50), HTML(value='')))"
      ]
     },
     "metadata": {},
     "output_type": "display_data"
    },
    {
     "name": "stdout",
     "output_type": "stream",
     "text": [
      "72.06260091871177 0.06225944620826417 1\n",
      "82.09384155273438 0.038324366209415824 1\n",
      "85.8898696899414 0.03345702565529297 1\n",
      "88.64773559570312 0.030630728620655624 1\n",
      "92.1520767211914 0.027661525982163704 1\n",
      "92.1520767211914 0.027661525982163704 1\n",
      "92.1520767211914 0.027661525982163704 1\n",
      "92.1520767211914 0.027661525982163704 1\n",
      "92.1520767211914 0.027661525982163704 1\n",
      "92.73403930664062 0.027223286250288168 1\n",
      "92.73403930664062 0.027223286250288168 1\n",
      "93.76701354980469 0.026478680506730284 1\n",
      "93.76701354980469 0.026478680506730284 1\n",
      "94.07250213623047 0.026266214810875738 1\n",
      "94.07250213623047 0.026266214810875738 1\n",
      "100.96233367919922 0.022241224894151437 1\n",
      "100.96233367919922 0.022241224894151437 1\n",
      "100.96233367919922 0.022241224894151437 1\n",
      "100.96233367919922 0.022241224894151437 1\n",
      "100.96233367919922 0.022241224894151437 1\n",
      "100.96233367919922 0.022241224894151437 1\n",
      "100.96233367919922 0.022241224894151437 1\n",
      "100.96233367919922 0.022241224894151437 1\n",
      "100.96233367919922 0.022241224894151437 1\n",
      "100.96233367919922 0.022241224894151437 1\n",
      "101.30975341796875 0.02207068382542855 1\n",
      "101.30975341796875 0.02207068382542855 1\n",
      "101.30975341796875 0.02207068382542855 1\n",
      "101.30975341796875 0.02207068382542855 1\n",
      "101.30975341796875 0.02207068382542855 1\n",
      "101.30975341796875 0.02207068382542855 1\n",
      "101.30975341796875 0.02207068382542855 1\n",
      "101.30975341796875 0.02207068382542855 1\n",
      "101.30975341796875 0.02207068382542855 1\n",
      "101.30975341796875 0.02207068382542855 1\n",
      "101.30975341796875 0.02207068382542855 1\n",
      "102.27568817138672 0.021609984022019663 1\n",
      "102.27568817138672 0.021609984022019663 1\n",
      "102.27568817138672 0.021609984022019663 1\n",
      "102.27568817138672 0.021609984022019663 1\n",
      "102.27568817138672 0.021609984022019663 1\n",
      "102.27568817138672 0.021609984022019663 1\n",
      "102.27568817138672 0.021609984022019663 1\n",
      "102.27568817138672 0.021609984022019663 1\n",
      "102.27568817138672 0.021609984022019663 1\n",
      "102.85260009765625 0.021343888536177778 1\n",
      "102.85260009765625 0.021343888536177778 1\n",
      "102.85260009765625 0.021343888536177778 1\n",
      "102.85260009765625 0.021343888536177778 1\n",
      "102.85260009765625 0.021343888536177778 1\n",
      "\n"
     ]
    }
   ],
   "source": [
    "grp_nrgs = list()\n",
    "tot_nrgs = list()\n",
    "\n",
    "grp_boosts = list()\n",
    "tot_boosts = list()\n",
    "\n",
    "ks = list()\n",
    "k_0s = list()\n",
    "vmaxs = list()\n",
    "\n",
    "gks = list()\n",
    "gk_0s = list()\n",
    "gvmaxs = list()\n",
    "\n",
    "for _ in tqdm.tqdm_notebook(range(50)):\n",
    "    #equil:\n",
    "    sim.step(1000)\n",
    "    \n",
    "    for i in range(200):\n",
    "        sim.step(250)\n",
    "        \n",
    "        grp_nrg = sim.context.getState(getEnergy=True, groups={2}).getPotentialEnergy()/kilojoules_per_mole\n",
    "        tot_nrg = sim.context.getState(getEnergy=True,).getPotentialEnergy()/kilojoules_per_mole\n",
    "        \n",
    "        grp_boost = sim.integrator.getGrpBoost(grp_nrg)/kilojoule_per_mole\n",
    "        tot_boost = sim.integrator.getTotBoost(tot_nrg)/kilojoule_per_mole\n",
    "        \n",
    "        grp_boosts.append(grp_boost)\n",
    "        tot_boosts.append(tot_boost)\n",
    "        \n",
    "        grp_nrgs.append(grp_nrg)\n",
    "        tot_nrgs.append(tot_nrg)\n",
    "              \n",
    "#In this example, I will only alter the dihedral boost\n",
    "        \n",
    "#     Vmax, Vmin, Vavg, Vstd = get_statistics(tot_nrgs, tot_boosts)\n",
    "#     E,k,k_0 = calc_parameters(Vmax, Vmin, Vavg, Vstd, sigma_0 = SIGMA0*10,verbose=True)\n",
    "#     sim.integrator.setEtot(E)\n",
    "#     sim.integrator.setKtot(k)\n",
    "    \n",
    "#     ks.append(k)\n",
    "#     k_0s.append(k_0)\n",
    "#     vmaxs.append(E)\n",
    "#     print(E, k, k_0)\n",
    "\n",
    "    #smaller SIGMA0 for dihedrals group, i.e. below calculates up to an StdDev of 6kT :\n",
    "    Vmax, Vmin, Vavg, Vstd = get_statistics(grp_nrgs, grp_boosts)\n",
    "    E,k,k_0 = calc_parameters(Vmax, Vmin, Vavg, Vstd, sigma_0 = SIGMA0*6, verbose=True)\n",
    "    sim.integrator.setEgrp(E)\n",
    "    sim.integrator.setKgrp(k)\n",
    "    \n",
    "    gks.append(k)\n",
    "    gk_0s.append(k_0)\n",
    "    gvmaxs.append(E)\n",
    "    print(E, k, k_0)\n",
    "\n",
    "    "
   ]
  },
  {
   "cell_type": "code",
   "execution_count": 43,
   "metadata": {},
   "outputs": [
    {
     "data": {
      "text/plain": [
       "Text(0.5, 1.0, 'Boost magnitude histogram\\n(should be gaussian)')"
      ]
     },
     "execution_count": 43,
     "metadata": {},
     "output_type": "execute_result"
    },
    {
     "data": {
      "image/png": "[encoded data removed]",
      "text/plain": [
       "<Figure size 1080x720 with 4 Axes>"
      ]
     },
     "metadata": {
      "needs_background": "light"
     },
     "output_type": "display_data"
    }
   ],
   "source": [
    "fig, ax = plt.subplots(2,2)\n",
    "fig.set_figwidth(15)\n",
    "fig.set_figheight(10)\n",
    "ax[0,0].plot(gvmaxs)\n",
    "ax[0,0].set_title('Vmax convergence:')\n",
    "\n",
    "ax[0,1].plot(gks)\n",
    "ax[0,1].set_title('kgrp convergence:')\n",
    "\n",
    "ax[1,0].plot(grp_boosts)\n",
    "ax[1,0].set_title('Boost magnitudes:')\n",
    "\n",
    "\n",
    "ax[1,1].hist(grp_boosts[-6000:],bins=55)\n",
    "ax[1,1].set_title('Boost magnitude histogram\\n(should be gaussian)')"
   ]
  },
  {
   "cell_type": "markdown",
   "metadata": {},
   "source": [
    "# Add a trajectory reporter and do some production run:\n"
   ]
  },
  {
   "cell_type": "code",
   "execution_count": 46,
   "metadata": {},
   "outputs": [],
   "source": [
    "\n",
    "sim.reporters.append(DCDReporter('diala_gamd_traj.dcd', 150))"
   ]
  },
  {
   "cell_type": "code",
   "execution_count": 47,
   "metadata": {},
   "outputs": [],
   "source": [
    "production = dict()\n",
    "production['grp_nrgs'] = list()\n",
    "production['tot_nrgs'] = list()\n",
    "\n",
    "production['grp_boosts'] = list()\n",
    "production['tot_boosts'] = list()\n",
    "\n",
    "def report(sim, prod):\n",
    "    grp_nrg = sim.context.getState(getEnergy=True, groups={2}).getPotentialEnergy()/kilojoules_per_mole\n",
    "    tot_nrg = sim.context.getState(getEnergy=True,).getPotentialEnergy()/kilojoules_per_mole\n",
    "        \n",
    "    grp_boost = sim.integrator.getGrpBoost(grp_nrg)/kilojoule_per_mole\n",
    "    tot_boost = sim.integrator.getTotBoost(tot_nrg)/kilojoule_per_mole\n",
    "        \n",
    "    prod['grp_boosts'].append(grp_boost)\n",
    "    prod['tot_boosts'].append(tot_boost)\n",
    "        \n",
    "    prod['grp_nrgs'].append(grp_nrg)\n",
    "    prod['tot_nrgs'].append(tot_nrg)\n",
    "    "
   ]
  },
  {
   "cell_type": "code",
   "execution_count": 50,
   "metadata": {},
   "outputs": [
    {
     "data": {
      "application/vnd.jupyter.widget-view+json": {
       "model_id": "91655a8d05e74c0995e025cd0d8a2115",
       "version_major": 2,
       "version_minor": 0
      },
      "text/plain": [
       "HBox(children=(IntProgress(value=0, max=100000), HTML(value='')))"
      ]
     },
     "metadata": {},
     "output_type": "display_data"
    },
    {
     "name": "stdout",
     "output_type": "stream",
     "text": [
      "\n"
     ]
    }
   ],
   "source": [
    "for _ in tqdm.tqdm_notebook(range(int(30*500000/150))): #30 nanoseconds\n",
    "    report(sim, production)\n",
    "    \n",
    "    sim.step(150)"
   ]
  },
  {
   "cell_type": "markdown",
   "metadata": {},
   "source": [
    "# Results.\n",
    "\n",
    "Below shows the dihedral angles of so-called alanine dipeptide. We would expect, from conventional MD, to see on the order of 4 or 5 transitions into the 'rare' state over 1000ns. So far, simulating 30 nanoseconds, we see 9 or maybe 10 transitions already. We would expect probably an order of magnitude increase in sampling, so the boost that was used here might be a little bit too aggressive. The downside of this is that the boost probably isn't gaussian shaped enough despite having low standard deviation. This can be fixed with more careful equilibration.\n"
   ]
  },
  {
   "cell_type": "code",
   "execution_count": 51,
   "metadata": {},
   "outputs": [],
   "source": [
    "import mdtraj as md\n",
    "##the dihedral idices:\n",
    "indices = np.array([[4, 6, 8, 14],[6, 8, 14, 16]])\n",
    "\n",
    "traj = md.load_dcd('./diala_gamd_traj.dcd', top='./alanine-dipeptide-explicit.pdb')\n",
    "\n",
    "dihedrals = md.compute_dihedrals(traj, indices, periodic=True)"
   ]
  },
  {
   "cell_type": "code",
   "execution_count": 52,
   "metadata": {},
   "outputs": [
    {
     "data": {
      "text/plain": [
       "<matplotlib.collections.PathCollection at 0x7faeb3e3fd10>"
      ]
     },
     "execution_count": 52,
     "metadata": {},
     "output_type": "execute_result"
    },
    {
     "data": {
      "image/png": "[encoded data removed]",
      "text/plain": [
       "<Figure size 432x288 with 1 Axes>"
      ]
     },
     "metadata": {
      "needs_background": "light"
     },
     "output_type": "display_data"
    }
   ],
   "source": [
    "#slow moving dihedral:\n",
    "plt.scatter(np.arange(len(dihedrals)), np.where(dihedrals[:,0]>2, dihedrals[:,0]-2*np.pi, dihedrals[:,0]))\n"
   ]
  },
  {
   "cell_type": "code",
   "execution_count": 56,
   "metadata": {},
   "outputs": [
    {
     "data": {
      "text/plain": [
       "0.08221536042910715"
      ]
     },
     "execution_count": 56,
     "metadata": {},
     "output_type": "execute_result"
    },
    {
     "data": {
      "image/png": "[encoded data removed]",
      "text/plain": [
       "<Figure size 432x288 with 1 Axes>"
      ]
     },
     "metadata": {
      "needs_background": "light"
     },
     "output_type": "display_data"
    }
   ],
   "source": [
    "#boosts histogram - actually not too bad!\n",
    "_=plt.hist(np.array(production['grp_boosts']), bins=55)\n",
    "\n",
    "\n",
    "#using Miao's anharmonicity calculator:\n",
    "def anharm(data):\n",
    "    var=np.var(data)\n",
    "    # hist, edges=np.histogram(data, 50, normed=True)\n",
    "    hist, edges=np.histogram(data, 50, density=True)\n",
    "    hist=np.add(hist,0.000000000000000001)  ###so that distrib\n",
    "    dx=edges[1]-edges[0]\n",
    "    S1=-1*np.trapz(np.multiply(hist, np.log(hist)),dx=dx)\n",
    "    S2=0.5*np.log(np.add(2.00*np.pi*np.exp(1)*var,0.000000000000000001))\n",
    "    alpha=S2-S1\n",
    "    if np.isinf(alpha):\n",
    "       alpha = 100\n",
    "    return alpha\n",
    "\n",
    "\n",
    "anharm(grp_boosts) #come to think of it, 0.08 might not be great.\n"
   ]
  },
  {
   "cell_type": "code",
   "execution_count": 55,
   "metadata": {},
   "outputs": [
    {
     "name": "stderr",
     "output_type": "stream",
     "text": [
      "/home/lewis/miniconda3/envs/lew_conda/lib/python3.7/site-packages/ipykernel_launcher.py:9: RuntimeWarning: divide by zero encountered in log\n",
      "  if __name__ == '__main__':\n"
     ]
    },
    {
     "data": {
      "image/png": "[encoded data removed]",
      "text/plain": [
       "<Figure size 432x288 with 1 Axes>"
      ]
     },
     "metadata": {
      "needs_background": "light"
     },
     "output_type": "display_data"
    }
   ],
   "source": [
    "#Probability density of the boosted trajectory:\n",
    "\n",
    "a,b,c = np.histogram2d(dihedrals[:,0], dihedrals[:,1], bins=55)\n",
    "\n",
    "import matplotlib.patches as patches\n",
    "\n",
    "\n",
    "fig, ax = plt.subplots(1)\n",
    "ax.imshow(np.log(a).T, origin='lower')\n",
    "\n",
    "\n",
    "# Create a Rectangle patch\n",
    "rect = patches.Rectangle((30,0),10,50,linewidth=1,edgecolor='r',facecolor='none', label='rare')\n",
    "\n",
    "# Add the patch to the Axes\n",
    "ax.add_patch(rect)\n",
    "ax.legend()\n",
    "\n",
    "num_ticks = 6\n",
    "_ =ax.set_xticks(np.linspace(0,55, num_ticks))\n",
    "_ = ax.set_xticklabels([str(i) for i in np.around(np.linspace(-np.pi, np.pi, num_ticks),1)])\n",
    "_ =ax.set_yticks(np.linspace(0,55, num_ticks))\n",
    "_ = ax.set_yticklabels([str(i) for i in np.around(np.linspace(-np.pi, np.pi, num_ticks),1)])"
   ]
  }
 ],
 "metadata": {
  "kernelspec": {
   "display_name": "Python 3",
   "language": "python",
   "name": "python3"
  },
  "language_info": {
   "codemirror_mode": {
    "name": "ipython",
    "version": 3
   },
   "file_extension": ".py",
   "mimetype": "text/x-python",
   "name": "python",
   "nbconvert_exporter": "python",
   "pygments_lexer": "ipython3",
   "version": "3.7.8"
  }
 },
 "nbformat": 4,
 "nbformat_minor": 4
}
